import codecademylib3_seaborn
import pandas as pd
import matplotlib.pyplot as plt
from sklearn.model_selection import train_test_split
from sklearn.linear_model import LinearRegression

# load and investigate the data here:

df = pd.read_csv('tennis_stats.csv')



print(df.head())


# perform exploratory analysis here:

plt.scatter(df['Aces'],df['Winnings'])
plt.title('Aces vs Winnings')
plt.xlabel('Aces')
plt.ylabel('Winnings')
plt.show()
plt.clf()

plt.scatter(df['Aces'],df['Losses'])
plt.title('Aces vs Losses')
plt.xlabel('Aces')
plt.ylabel('Losses')
plt.show()
plt.clf()

plt.scatter(df['DoubleFaults'],df['Winnings'])
plt.title('DoubleFaults vs Winnings')
plt.xlabel('DoubleFaults')
plt.ylabel('Winnings')
plt.show()
plt.clf()











## perform single feature linear regressions here:




features = df[['Aces']]
outcome = df[['Losses']]

features_train, features_test, outcome_train, outcome_test = train_test_split(features, outcome, train_size = 0.8)


model = LinearRegression()
model.fit(features_train,outcome_train)

print('Predicting Losses with Aces Test Score:', model.score(features_test,outcome_test))

prediction = model.predict(features_test)
plt.scatter(outcome_test,prediction, alpha=0.4)

plt.show()
plt.clf()



features = df[['Aces']]
outcome = df[['Wins']]

features_train, features_test, outcome_train, outcome_test = train_test_split(features, outcome, train_size = 0.8)


model = LinearRegression()
model.fit(features_train,outcome_train)

print('Predicting Losses with Aces Test Score:', model.score(features_test,outcome_test))

prediction = model.predict(features_test)
plt.scatter(outcome_test,prediction, alpha=0.4)

plt.show()

plt.clf()













## perform two feature linear regressions here:






















## perform multiple feature linear regressions here:




features1 = df[['BreakPointsOpportunities',
'FirstServeReturnPointsWon']]
outcome1 = df[['Winnings']]

features_train, features_test, winnings_train, winnings_test = train_test_split(features1, outcome1, train_size = 0.75)

model1 = LinearRegression()
model1.fit(features_train,winnings_train)
print('Predicting Winnings with 2 Features Test Score:', model1.score(features_test,winnings_test))


winnings_prediction = model1.predict(features_test)

plt.scatter(winnings_test,winnings_prediction, alpha=0.4)
plt.show()
plt.clf()


features = df[['FirstServe','FirstServePointsWon','FirstServeReturnPointsWon','SecondServePointsWon','SecondServeReturnPointsWon','Aces','BreakPointsConverted']]
winnings = df[['Winnings']]

# train, test, split the data
features_train, features_test, winnings_train, winnings_test = train_test_split(features, winnings, train_size = 0.8)

# create and train model on training data
model = LinearRegression()
model.fit(features_train,winnings_train)

# score model on test data
print('Predicting Winnings with Multiple Features Test Score:', model.score(features_test,winnings_test))

# make predictions with model
winnings_prediction = model.predict(features_test)

# plot predictions against actual winnings
plt.scatter(winnings_test,winnings_prediction, alpha=0.4)
plt.title('Predicted Winnings vs. Actual Winnings - Multiple Features')
plt.xlabel('Actual Winnings')
plt.ylabel('Predicted Winnings')
plt.show()
plt.clf()






